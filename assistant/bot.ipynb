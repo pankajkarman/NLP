{
 "cells": [
  {
   "cell_type": "code",
   "execution_count": 1,
   "id": "casual-relief",
   "metadata": {},
   "outputs": [
    {
     "name": "stdout",
     "output_type": "stream",
     "text": [
      "autotime not loaded.\n",
      "autotime not loaded.\n",
      "black loaded.\n",
      "black loaded.\n"
     ]
    },
    {
     "data": {
      "application/javascript": [
       "\n",
       "            setTimeout(function() {\n",
       "                var nbb_cell_id = 1;\n",
       "                var nbb_unformatted_code = \"from init import *\";\n",
       "                var nbb_formatted_code = \"from init import *\";\n",
       "                var nbb_cells = Jupyter.notebook.get_cells();\n",
       "                for (var i = 0; i < nbb_cells.length; ++i) {\n",
       "                    if (nbb_cells[i].input_prompt_number == nbb_cell_id) {\n",
       "                        if (nbb_cells[i].get_text() == nbb_unformatted_code) {\n",
       "                             nbb_cells[i].set_text(nbb_formatted_code);\n",
       "                        }\n",
       "                        break;\n",
       "                    }\n",
       "                }\n",
       "            }, 500);\n",
       "            "
      ],
      "text/plain": [
       "<IPython.core.display.Javascript object>"
      ]
     },
     "metadata": {},
     "output_type": "display_data"
    }
   ],
   "source": [
    "from init import *"
   ]
  },
  {
   "cell_type": "code",
   "execution_count": 2,
   "id": "pursuant-archives",
   "metadata": {},
   "outputs": [
    {
     "data": {
      "application/javascript": [
       "\n",
       "            setTimeout(function() {\n",
       "                var nbb_cell_id = 2;\n",
       "                var nbb_unformatted_code = \"import speech_recognition  # for voice input and converting to text\\nfrom gtts import gTTS  # google text to speech\\nfrom selenium import webdriver\\n\\nfrom pydub import AudioSegment\\nfrom pydub.playback import play\\nimport playsound\\nimport datetime\\nimport time\";\n",
       "                var nbb_formatted_code = \"import speech_recognition  # for voice input and converting to text\\nfrom gtts import gTTS  # google text to speech\\nfrom selenium import webdriver\\n\\nfrom pydub import AudioSegment\\nfrom pydub.playback import play\\nimport playsound\\nimport datetime\\nimport time\";\n",
       "                var nbb_cells = Jupyter.notebook.get_cells();\n",
       "                for (var i = 0; i < nbb_cells.length; ++i) {\n",
       "                    if (nbb_cells[i].input_prompt_number == nbb_cell_id) {\n",
       "                        if (nbb_cells[i].get_text() == nbb_unformatted_code) {\n",
       "                             nbb_cells[i].set_text(nbb_formatted_code);\n",
       "                        }\n",
       "                        break;\n",
       "                    }\n",
       "                }\n",
       "            }, 500);\n",
       "            "
      ],
      "text/plain": [
       "<IPython.core.display.Javascript object>"
      ]
     },
     "metadata": {},
     "output_type": "display_data"
    }
   ],
   "source": [
    "import speech_recognition  # for voice input and converting to text\n",
    "from gtts import gTTS  # google text to speech\n",
    "from selenium import webdriver\n",
    "\n",
    "from pydub import AudioSegment\n",
    "from pydub.playback import play\n",
    "import playsound\n",
    "import datetime\n",
    "import time"
   ]
  },
  {
   "cell_type": "code",
   "execution_count": 3,
   "id": "defined-director",
   "metadata": {},
   "outputs": [
    {
     "data": {
      "application/javascript": [
       "\n",
       "            setTimeout(function() {\n",
       "                var nbb_cell_id = 3;\n",
       "                var nbb_unformatted_code = \"class Assistant:\\n    def __init__(self, name=\\\"Kriti\\\"):\\n        self.name = name\\n        self.greet()\\n        self.speak(\\\"My name is %s. How may I help you?\\\" % name)\\n\\n    def greet(self):\\n        hour = datetime.datetime.now().hour\\n\\n        if hour >= 0 and hour < 12:\\n            self.speak(\\\"Hello, Good Morning\\\")\\n\\n        elif hour >= 12 and hour < 18:\\n            self.speak(\\\"Hello, Good Afternoon\\\")\\n\\n        else:\\n            self.speak(\\\"Hello, Good Evening\\\")\\n\\n    def speak(self, output):\\n        print(\\\"%s : \\\" % self.name, output)\\n        filename = \\\"temp.mp3\\\"\\n\\n        audio = gTTS(text=output, lang=\\\"en-in\\\", slow=False)\\n        audio.save(filename)\\n\\n        audio = AudioSegment.from_mp3(filename)\\n        play(audio)\\n\\n        os.remove(filename)\\n\\n    def listen(self, time_limit=1):\\n        print(\\\"Listening....\\\")\\n\\n        recognizer = speech_recognition.Recognizer()\\n        speech2text = getattr(recognizer, \\\"recognize_google\\\")\\n\\n        while True:\\n            try:\\n                with speech_recognition.Microphone() as source:\\n                    # recognizer.pause_threshold = 0.7\\n                    recognizer.adjust_for_ambient_noise(source, time_limit)\\n                    audio = recognizer.listen(source, timeout=time_limit)\\n                    result = speech2text(audio)\\n                    print(\\\"You : %s\\\" % result)\\n\\n            except speech_recognition.UnknownValueError:\\n                self.speak(\\\"I am sorry, I could not understand that.\\\")\\n\\n            except speech_recognition.RequestError as e:\\n                message = \\\"My speech recognition service has failed. {0}\\\"\\n                self.speak(message.format(e))\\n\\n            except (KeyboardInterrupt, EOFError, SystemExit):\\n                # Press ctrl-c or ctrl-d on the keyboard to exit\\n                break\\n\\n            except:\\n                time.sleep(0.5)\\n                self.speak(\\\"There is some problem with the Microphone driver.\\\")\\n                break\";\n",
       "                var nbb_formatted_code = \"class Assistant:\\n    def __init__(self, name=\\\"Kriti\\\"):\\n        self.name = name\\n        self.greet()\\n        self.speak(\\\"My name is %s. How may I help you?\\\" % name)\\n\\n    def greet(self):\\n        hour = datetime.datetime.now().hour\\n\\n        if hour >= 0 and hour < 12:\\n            self.speak(\\\"Hello, Good Morning\\\")\\n\\n        elif hour >= 12 and hour < 18:\\n            self.speak(\\\"Hello, Good Afternoon\\\")\\n\\n        else:\\n            self.speak(\\\"Hello, Good Evening\\\")\\n\\n    def speak(self, output):\\n        print(\\\"%s : \\\" % self.name, output)\\n        filename = \\\"temp.mp3\\\"\\n\\n        audio = gTTS(text=output, lang=\\\"en-in\\\", slow=False)\\n        audio.save(filename)\\n\\n        audio = AudioSegment.from_mp3(filename)\\n        play(audio)\\n\\n        os.remove(filename)\\n\\n    def listen(self, time_limit=1):\\n        print(\\\"Listening....\\\")\\n\\n        recognizer = speech_recognition.Recognizer()\\n        speech2text = getattr(recognizer, \\\"recognize_google\\\")\\n\\n        while True:\\n            try:\\n                with speech_recognition.Microphone() as source:\\n                    # recognizer.pause_threshold = 0.7\\n                    recognizer.adjust_for_ambient_noise(source, time_limit)\\n                    audio = recognizer.listen(source, timeout=time_limit)\\n                    result = speech2text(audio)\\n                    print(\\\"You : %s\\\" % result)\\n\\n            except speech_recognition.UnknownValueError:\\n                self.speak(\\\"I am sorry, I could not understand that.\\\")\\n\\n            except speech_recognition.RequestError as e:\\n                message = \\\"My speech recognition service has failed. {0}\\\"\\n                self.speak(message.format(e))\\n\\n            except (KeyboardInterrupt, EOFError, SystemExit):\\n                # Press ctrl-c or ctrl-d on the keyboard to exit\\n                break\\n\\n            except:\\n                time.sleep(0.5)\\n                self.speak(\\\"There is some problem with the Microphone driver.\\\")\\n                break\";\n",
       "                var nbb_cells = Jupyter.notebook.get_cells();\n",
       "                for (var i = 0; i < nbb_cells.length; ++i) {\n",
       "                    if (nbb_cells[i].input_prompt_number == nbb_cell_id) {\n",
       "                        if (nbb_cells[i].get_text() == nbb_unformatted_code) {\n",
       "                             nbb_cells[i].set_text(nbb_formatted_code);\n",
       "                        }\n",
       "                        break;\n",
       "                    }\n",
       "                }\n",
       "            }, 500);\n",
       "            "
      ],
      "text/plain": [
       "<IPython.core.display.Javascript object>"
      ]
     },
     "metadata": {},
     "output_type": "display_data"
    }
   ],
   "source": [
    "class Assistant:\n",
    "    def __init__(self, name=\"Kriti\"):\n",
    "        self.name = name\n",
    "        self.greet()\n",
    "        self.speak(\"My name is %s. How may I help you?\" % name)\n",
    "\n",
    "    def greet(self):\n",
    "        hour = datetime.datetime.now().hour\n",
    "\n",
    "        if hour >= 0 and hour < 12:\n",
    "            self.speak(\"Hello, Good Morning\")\n",
    "\n",
    "        elif hour >= 12 and hour < 18:\n",
    "            self.speak(\"Hello, Good Afternoon\")\n",
    "\n",
    "        else:\n",
    "            self.speak(\"Hello, Good Evening\")\n",
    "\n",
    "    def speak(self, output):\n",
    "        print(\"%s : \" % self.name, output)\n",
    "        filename = \"temp.mp3\"\n",
    "\n",
    "        audio = gTTS(text=output, lang=\"en-in\", slow=False)\n",
    "        audio.save(filename)\n",
    "\n",
    "        audio = AudioSegment.from_mp3(filename)\n",
    "        play(audio)\n",
    "\n",
    "        os.remove(filename)\n",
    "\n",
    "    def listen(self, time_limit=1):\n",
    "        print(\"Listening....\")\n",
    "\n",
    "        recognizer = speech_recognition.Recognizer()\n",
    "        speech2text = getattr(recognizer, \"recognize_google\")\n",
    "\n",
    "        while True:\n",
    "            try:\n",
    "                with speech_recognition.Microphone() as source:\n",
    "                    # recognizer.pause_threshold = 0.7\n",
    "                    recognizer.adjust_for_ambient_noise(source, time_limit)\n",
    "                    audio = recognizer.listen(source, timeout=time_limit)\n",
    "                    result = speech2text(audio)\n",
    "                    print(\"You : %s\" % result)\n",
    "\n",
    "            except speech_recognition.UnknownValueError:\n",
    "                self.speak(\"I am sorry, I could not understand that.\")\n",
    "\n",
    "            except speech_recognition.RequestError as e:\n",
    "                message = \"My speech recognition service has failed. {0}\"\n",
    "                self.speak(message.format(e))\n",
    "\n",
    "            except (KeyboardInterrupt, EOFError, SystemExit):\n",
    "                # Press ctrl-c or ctrl-d on the keyboard to exit\n",
    "                break\n",
    "\n",
    "            except:\n",
    "                time.sleep(0.5)\n",
    "                self.speak(\"There is some problem with the Microphone driver.\")\n",
    "                break"
   ]
  },
  {
   "cell_type": "code",
   "execution_count": 4,
   "id": "demographic-reward",
   "metadata": {},
   "outputs": [
    {
     "name": "stdout",
     "output_type": "stream",
     "text": [
      "Kriti :  Hello, Good Afternoon\n",
      "Kriti :  My name is Kriti. How may I help you?\n",
      "Listening....\n",
      "Kriti :  There is some problem with the Microphone driver.\n"
     ]
    },
    {
     "data": {
      "application/javascript": [
       "\n",
       "            setTimeout(function() {\n",
       "                var nbb_cell_id = 4;\n",
       "                var nbb_unformatted_code = \"bot = Assistant()\\nbot.listen()\";\n",
       "                var nbb_formatted_code = \"bot = Assistant()\\nbot.listen()\";\n",
       "                var nbb_cells = Jupyter.notebook.get_cells();\n",
       "                for (var i = 0; i < nbb_cells.length; ++i) {\n",
       "                    if (nbb_cells[i].input_prompt_number == nbb_cell_id) {\n",
       "                        if (nbb_cells[i].get_text() == nbb_unformatted_code) {\n",
       "                             nbb_cells[i].set_text(nbb_formatted_code);\n",
       "                        }\n",
       "                        break;\n",
       "                    }\n",
       "                }\n",
       "            }, 500);\n",
       "            "
      ],
      "text/plain": [
       "<IPython.core.display.Javascript object>"
      ]
     },
     "metadata": {},
     "output_type": "display_data"
    }
   ],
   "source": [
    "bot = Assistant()\n",
    "bot.listen()"
   ]
  }
 ],
 "metadata": {
  "kernelspec": {
   "display_name": "Python 3",
   "language": "python",
   "name": "python3"
  },
  "language_info": {
   "codemirror_mode": {
    "name": "ipython",
    "version": 3
   },
   "file_extension": ".py",
   "mimetype": "text/x-python",
   "name": "python",
   "nbconvert_exporter": "python",
   "pygments_lexer": "ipython3",
   "version": "3.6.13"
  }
 },
 "nbformat": 4,
 "nbformat_minor": 5
}
