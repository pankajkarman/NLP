{
 "cells": [
  {
   "cell_type": "code",
   "execution_count": 1,
   "id": "chronic-admission",
   "metadata": {},
   "outputs": [
    {
     "name": "stdout",
     "output_type": "stream",
     "text": [
      "autotime not loaded.\n",
      "autotime not loaded.\n",
      "black loaded.\n",
      "black loaded.\n"
     ]
    },
    {
     "data": {
      "application/javascript": [
       "\n",
       "            setTimeout(function() {\n",
       "                var nbb_cell_id = 1;\n",
       "                var nbb_unformatted_code = \"from init import *\";\n",
       "                var nbb_formatted_code = \"from init import *\";\n",
       "                var nbb_cells = Jupyter.notebook.get_cells();\n",
       "                for (var i = 0; i < nbb_cells.length; ++i) {\n",
       "                    if (nbb_cells[i].input_prompt_number == nbb_cell_id) {\n",
       "                        if (nbb_cells[i].get_text() == nbb_unformatted_code) {\n",
       "                             nbb_cells[i].set_text(nbb_formatted_code);\n",
       "                        }\n",
       "                        break;\n",
       "                    }\n",
       "                }\n",
       "            }, 500);\n",
       "            "
      ],
      "text/plain": [
       "<IPython.core.display.Javascript object>"
      ]
     },
     "metadata": {},
     "output_type": "display_data"
    }
   ],
   "source": [
    "from init import *"
   ]
  },
  {
   "cell_type": "code",
   "execution_count": 2,
   "id": "proved-witness",
   "metadata": {},
   "outputs": [
    {
     "data": {
      "application/javascript": [
       "\n",
       "            setTimeout(function() {\n",
       "                var nbb_cell_id = 2;\n",
       "                var nbb_unformatted_code = \"import speech_recognition as sr  # for voice input and converting to text\\nfrom gtts import gTTS  # google text to speech\\nimport playsound\\nimport wolframalpha as wa  # to calculate strings into formula\\nfrom selenium import webdriver\\n\\nfrom pydub import AudioSegment\\nfrom pydub.playback import play\\n\\nimport datetime\";\n",
       "                var nbb_formatted_code = \"import speech_recognition as sr  # for voice input and converting to text\\nfrom gtts import gTTS  # google text to speech\\nimport playsound\\nimport wolframalpha as wa  # to calculate strings into formula\\nfrom selenium import webdriver\\n\\nfrom pydub import AudioSegment\\nfrom pydub.playback import play\\n\\nimport datetime\";\n",
       "                var nbb_cells = Jupyter.notebook.get_cells();\n",
       "                for (var i = 0; i < nbb_cells.length; ++i) {\n",
       "                    if (nbb_cells[i].input_prompt_number == nbb_cell_id) {\n",
       "                        if (nbb_cells[i].get_text() == nbb_unformatted_code) {\n",
       "                             nbb_cells[i].set_text(nbb_formatted_code);\n",
       "                        }\n",
       "                        break;\n",
       "                    }\n",
       "                }\n",
       "            }, 500);\n",
       "            "
      ],
      "text/plain": [
       "<IPython.core.display.Javascript object>"
      ]
     },
     "metadata": {},
     "output_type": "display_data"
    }
   ],
   "source": [
    "import speech_recognition as sr  # for voice input and converting to text\n",
    "from gtts import gTTS  # google text to speech\n",
    "import playsound\n",
    "import wolframalpha as wa  # to calculate strings into formula\n",
    "from selenium import webdriver\n",
    "\n",
    "from pydub import AudioSegment\n",
    "from pydub.playback import play\n",
    "\n",
    "import datetime"
   ]
  },
  {
   "cell_type": "code",
   "execution_count": 6,
   "id": "individual-baptist",
   "metadata": {},
   "outputs": [
    {
     "name": "stdout",
     "output_type": "stream",
     "text": [
      "Kriti :  Hello, Good Afternoon\n",
      "Kriti :  My name is Kriti. How may I help you?\n"
     ]
    },
    {
     "data": {
      "application/javascript": [
       "\n",
       "            setTimeout(function() {\n",
       "                var nbb_cell_id = 6;\n",
       "                var nbb_unformatted_code = \"class Assistant:\\n    def __init__(self, name=\\\"Kriti\\\"):\\n        self.name = name\\n        self.greet()\\n        self.speak(\\\"My name is %s. How may I help you?\\\" % name)\\n\\n    def greet(self):\\n        hour = datetime.datetime.now().hour\\n        if hour >= 0 and hour < 12:\\n            self.speak(\\\"Hello, Good Morning\\\")\\n\\n        elif hour >= 12 and hour < 18:\\n            self.speak(\\\"Hello, Good Afternoon\\\")\\n        else:\\n            self.speak(\\\"Hello, Good Evening\\\")\\n\\n    def speak(self, output):\\n        print(\\\"%s : \\\" % self.name, output)\\n\\n        toSpeak = gTTS(text=output, lang=\\\"en\\\", slow=False)\\n\\n        filename = \\\"temp.mp3\\\"\\n        toSpeak.save(filename)\\n\\n        audio = AudioSegment.from_mp3(filename)\\n        play(audio)\\n\\n        os.remove(filename)\\n\\n    def listen(self, time_limit=1):\\n\\n        rObject = sr.Recognizer()\\n\\n        with sr.Microphone() as source:\\n            print(\\\"Speak...\\\")\\n\\n            # recording the audio using speech recognition\\n            audio = rObject.listen(source, phrase_time_limit=time_limit)\\n\\n        print(\\\"Stop.\\\")\\n\\n        try:\\n            text = rObject.recognize_google(audio, language=\\\"en-US\\\")\\n            print(\\\"You : \\\", text)\\n            return text\\n\\n        except:\\n            self.speak(\\\"Could not understand your audio, PLease try again !\\\")\\n            return 0\\n\\n\\nbot = Assistant()\\n# bot.listen()\";\n",
       "                var nbb_formatted_code = \"class Assistant:\\n    def __init__(self, name=\\\"Kriti\\\"):\\n        self.name = name\\n        self.greet()\\n        self.speak(\\\"My name is %s. How may I help you?\\\" % name)\\n\\n    def greet(self):\\n        hour = datetime.datetime.now().hour\\n        if hour >= 0 and hour < 12:\\n            self.speak(\\\"Hello, Good Morning\\\")\\n\\n        elif hour >= 12 and hour < 18:\\n            self.speak(\\\"Hello, Good Afternoon\\\")\\n        else:\\n            self.speak(\\\"Hello, Good Evening\\\")\\n\\n    def speak(self, output):\\n        print(\\\"%s : \\\" % self.name, output)\\n\\n        toSpeak = gTTS(text=output, lang=\\\"en\\\", slow=False)\\n\\n        filename = \\\"temp.mp3\\\"\\n        toSpeak.save(filename)\\n\\n        audio = AudioSegment.from_mp3(filename)\\n        play(audio)\\n\\n        os.remove(filename)\\n\\n    def listen(self, time_limit=1):\\n\\n        rObject = sr.Recognizer()\\n\\n        with sr.Microphone() as source:\\n            print(\\\"Speak...\\\")\\n\\n            # recording the audio using speech recognition\\n            audio = rObject.listen(source, phrase_time_limit=time_limit)\\n\\n        print(\\\"Stop.\\\")\\n\\n        try:\\n            text = rObject.recognize_google(audio, language=\\\"en-US\\\")\\n            print(\\\"You : \\\", text)\\n            return text\\n\\n        except:\\n            self.speak(\\\"Could not understand your audio, PLease try again !\\\")\\n            return 0\\n\\n\\nbot = Assistant()\\n# bot.listen()\";\n",
       "                var nbb_cells = Jupyter.notebook.get_cells();\n",
       "                for (var i = 0; i < nbb_cells.length; ++i) {\n",
       "                    if (nbb_cells[i].input_prompt_number == nbb_cell_id) {\n",
       "                        if (nbb_cells[i].get_text() == nbb_unformatted_code) {\n",
       "                             nbb_cells[i].set_text(nbb_formatted_code);\n",
       "                        }\n",
       "                        break;\n",
       "                    }\n",
       "                }\n",
       "            }, 500);\n",
       "            "
      ],
      "text/plain": [
       "<IPython.core.display.Javascript object>"
      ]
     },
     "metadata": {},
     "output_type": "display_data"
    }
   ],
   "source": [
    "class Assistant:\n",
    "    def __init__(self, name=\"Kriti\"):\n",
    "        self.name = name\n",
    "        self.greet()\n",
    "        self.speak(\"My name is %s. How may I help you?\" % name)\n",
    "\n",
    "    def greet(self):\n",
    "        hour = datetime.datetime.now().hour\n",
    "        if hour >= 0 and hour < 12:\n",
    "            self.speak(\"Hello, Good Morning\")\n",
    "\n",
    "        elif hour >= 12 and hour < 18:\n",
    "            self.speak(\"Hello, Good Afternoon\")\n",
    "        else:\n",
    "            self.speak(\"Hello, Good Evening\")\n",
    "\n",
    "    def speak(self, output):\n",
    "        print(\"%s : \" % self.name, output)\n",
    "\n",
    "        toSpeak = gTTS(text=output, lang=\"en\", slow=False)\n",
    "\n",
    "        filename = \"temp.mp3\"\n",
    "        toSpeak.save(filename)\n",
    "\n",
    "        audio = AudioSegment.from_mp3(filename)\n",
    "        play(audio)\n",
    "\n",
    "        os.remove(filename)\n",
    "\n",
    "    def listen(self, time_limit=1):\n",
    "\n",
    "        rObject = sr.Recognizer()\n",
    "\n",
    "        with sr.Microphone() as source:\n",
    "            print(\"Speak...\")\n",
    "\n",
    "            # recording the audio using speech recognition\n",
    "            audio = rObject.listen(source, phrase_time_limit=time_limit)\n",
    "\n",
    "        print(\"Stop.\")\n",
    "\n",
    "        try:\n",
    "            text = rObject.recognize_google(audio, language=\"en-US\")\n",
    "            print(\"You : \", text)\n",
    "            return text\n",
    "\n",
    "        except:\n",
    "            self.speak(\"Could not understand your audio, PLease try again !\")\n",
    "            return 0\n",
    "\n",
    "\n",
    "bot = Assistant()\n",
    "# bot.listen()"
   ]
  }
 ],
 "metadata": {
  "kernelspec": {
   "display_name": "Python 3",
   "language": "python",
   "name": "python3"
  },
  "language_info": {
   "codemirror_mode": {
    "name": "ipython",
    "version": 3
   },
   "file_extension": ".py",
   "mimetype": "text/x-python",
   "name": "python",
   "nbconvert_exporter": "python",
   "pygments_lexer": "ipython3",
   "version": "3.6.13"
  }
 },
 "nbformat": 4,
 "nbformat_minor": 5
}
